{
 "cells": [
  {
   "cell_type": "code",
   "metadata": {
    "ExecuteTime": {
     "end_time": "2024-09-14T21:58:30.361229Z",
     "start_time": "2024-09-14T21:58:30.136124Z"
    }
   },
   "source": [
    "import pandas as pd\n",
    "from sklearn.model_selection import train_test_split, GridSearchCV, cross_val_score\n",
    "from sklearn.metrics import mean_squared_error\n",
    "import csv\n",
    "import lightgbm as lgb\n",
    "from sklearn.preprocessing import LabelEncoder\n",
    "import seaborn as sns\n",
    "import matplotlib.pyplot as plt\n",
    "import pandas as pd\n",
    "from sklearn.model_selection import train_test_split\n",
    "from sklearn.linear_model import LinearRegression, Ridge, Lasso\n",
    "from sklearn.ensemble import RandomForestRegressor\n",
    "import numpy as np\n",
    "from sklearn.preprocessing import StandardScaler\n",
    "from sklearn.pipeline import make_pipeline\n",
    "from scipy.stats import pearsonr"
   ],
   "outputs": [],
   "execution_count": 1
  },
  {
   "cell_type": "code",
   "metadata": {
    "ExecuteTime": {
     "end_time": "2024-09-14T21:59:49.015418Z",
     "start_time": "2024-09-14T21:59:48.958904Z"
    }
   },
   "source": [
    "df = pd.read_csv('data/days.csv')\n",
    "df['days'] = pd.to_datetime(df['days'], format='%Y-%m-%d')\n",
    "df['Year-Week'] = df['days'].dt.strftime('%Y-%U')\n",
    "df = df.drop('days',axis=1)\n",
    "df = df.groupby(['CategoryName','Year-Week'])['total_sales'].sum()\n",
    "df = pd.DataFrame(df,columns=['total_sales'])\n",
    "df = df.reset_index()"
   ],
   "outputs": [],
   "execution_count": 3
  },
  {
   "cell_type": "code",
   "metadata": {
    "ExecuteTime": {
     "end_time": "2024-09-14T21:59:50.949066Z",
     "start_time": "2024-09-14T21:59:50.944510Z"
    }
   },
   "source": [
    "df = df.sort_values(by=['CategoryName', 'Year-Week'])"
   ],
   "outputs": [],
   "execution_count": 4
  },
  {
   "cell_type": "code",
   "metadata": {
    "ExecuteTime": {
     "end_time": "2024-09-14T21:59:52.012734Z",
     "start_time": "2024-09-14T21:59:52.002276Z"
    }
   },
   "source": [
    "df['prev_week_sales'] = df.groupby('CategoryName')['total_sales'].shift(1)\n",
    "df_ = df.copy()\n",
    "df"
   ],
   "outputs": [
    {
     "data": {
      "text/plain": [
       "     CategoryName Year-Week  total_sales  prev_week_sales\n",
       "0       Beverages   2018-05      71242.0              NaN\n",
       "1       Beverages   2018-06     596255.0          71242.0\n",
       "2       Beverages   2018-07     565444.0         596255.0\n",
       "3       Beverages   2018-08     682273.5         565444.0\n",
       "4       Beverages   2018-09     341663.5         682273.5\n",
       "...           ...       ...          ...              ...\n",
       "1539      Seafood   2021-34     295423.0         269631.0\n",
       "1540      Seafood   2021-35     216061.0         295423.0\n",
       "1541      Seafood   2021-36     231179.0         216061.0\n",
       "1542      Seafood   2021-37     208426.0         231179.0\n",
       "1543      Seafood   2021-38      35947.0         208426.0\n",
       "\n",
       "[1544 rows x 4 columns]"
      ],
      "text/html": [
       "<div>\n",
       "<style scoped>\n",
       "    .dataframe tbody tr th:only-of-type {\n",
       "        vertical-align: middle;\n",
       "    }\n",
       "\n",
       "    .dataframe tbody tr th {\n",
       "        vertical-align: top;\n",
       "    }\n",
       "\n",
       "    .dataframe thead th {\n",
       "        text-align: right;\n",
       "    }\n",
       "</style>\n",
       "<table border=\"1\" class=\"dataframe\">\n",
       "  <thead>\n",
       "    <tr style=\"text-align: right;\">\n",
       "      <th></th>\n",
       "      <th>CategoryName</th>\n",
       "      <th>Year-Week</th>\n",
       "      <th>total_sales</th>\n",
       "      <th>prev_week_sales</th>\n",
       "    </tr>\n",
       "  </thead>\n",
       "  <tbody>\n",
       "    <tr>\n",
       "      <th>0</th>\n",
       "      <td>Beverages</td>\n",
       "      <td>2018-05</td>\n",
       "      <td>71242.0</td>\n",
       "      <td>NaN</td>\n",
       "    </tr>\n",
       "    <tr>\n",
       "      <th>1</th>\n",
       "      <td>Beverages</td>\n",
       "      <td>2018-06</td>\n",
       "      <td>596255.0</td>\n",
       "      <td>71242.0</td>\n",
       "    </tr>\n",
       "    <tr>\n",
       "      <th>2</th>\n",
       "      <td>Beverages</td>\n",
       "      <td>2018-07</td>\n",
       "      <td>565444.0</td>\n",
       "      <td>596255.0</td>\n",
       "    </tr>\n",
       "    <tr>\n",
       "      <th>3</th>\n",
       "      <td>Beverages</td>\n",
       "      <td>2018-08</td>\n",
       "      <td>682273.5</td>\n",
       "      <td>565444.0</td>\n",
       "    </tr>\n",
       "    <tr>\n",
       "      <th>4</th>\n",
       "      <td>Beverages</td>\n",
       "      <td>2018-09</td>\n",
       "      <td>341663.5</td>\n",
       "      <td>682273.5</td>\n",
       "    </tr>\n",
       "    <tr>\n",
       "      <th>...</th>\n",
       "      <td>...</td>\n",
       "      <td>...</td>\n",
       "      <td>...</td>\n",
       "      <td>...</td>\n",
       "    </tr>\n",
       "    <tr>\n",
       "      <th>1539</th>\n",
       "      <td>Seafood</td>\n",
       "      <td>2021-34</td>\n",
       "      <td>295423.0</td>\n",
       "      <td>269631.0</td>\n",
       "    </tr>\n",
       "    <tr>\n",
       "      <th>1540</th>\n",
       "      <td>Seafood</td>\n",
       "      <td>2021-35</td>\n",
       "      <td>216061.0</td>\n",
       "      <td>295423.0</td>\n",
       "    </tr>\n",
       "    <tr>\n",
       "      <th>1541</th>\n",
       "      <td>Seafood</td>\n",
       "      <td>2021-36</td>\n",
       "      <td>231179.0</td>\n",
       "      <td>216061.0</td>\n",
       "    </tr>\n",
       "    <tr>\n",
       "      <th>1542</th>\n",
       "      <td>Seafood</td>\n",
       "      <td>2021-37</td>\n",
       "      <td>208426.0</td>\n",
       "      <td>231179.0</td>\n",
       "    </tr>\n",
       "    <tr>\n",
       "      <th>1543</th>\n",
       "      <td>Seafood</td>\n",
       "      <td>2021-38</td>\n",
       "      <td>35947.0</td>\n",
       "      <td>208426.0</td>\n",
       "    </tr>\n",
       "  </tbody>\n",
       "</table>\n",
       "<p>1544 rows × 4 columns</p>\n",
       "</div>"
      ]
     },
     "execution_count": 5,
     "metadata": {},
     "output_type": "execute_result"
    }
   ],
   "execution_count": 5
  },
  {
   "cell_type": "code",
   "metadata": {
    "ExecuteTime": {
     "end_time": "2024-09-14T21:59:55.550578Z",
     "start_time": "2024-09-14T21:59:55.547085Z"
    }
   },
   "source": [
    "df = df.dropna(subset=['prev_week_sales'])"
   ],
   "outputs": [],
   "execution_count": 6
  },
  {
   "cell_type": "code",
   "metadata": {
    "ExecuteTime": {
     "end_time": "2024-09-14T21:59:57.267031Z",
     "start_time": "2024-09-14T21:59:57.263844Z"
    }
   },
   "source": [
    "df = df.drop(columns=['Year-Week'])"
   ],
   "outputs": [],
   "execution_count": 7
  },
  {
   "cell_type": "code",
   "metadata": {
    "ExecuteTime": {
     "end_time": "2024-09-14T21:59:58.566713Z",
     "start_time": "2024-09-14T21:59:58.560259Z"
    }
   },
   "source": [
    "df"
   ],
   "outputs": [
    {
     "data": {
      "text/plain": [
       "     CategoryName  total_sales  prev_week_sales\n",
       "1       Beverages     596255.0          71242.0\n",
       "2       Beverages     565444.0         596255.0\n",
       "3       Beverages     682273.5         565444.0\n",
       "4       Beverages     341663.5         682273.5\n",
       "5       Beverages     462239.0         341663.5\n",
       "...           ...          ...              ...\n",
       "1539      Seafood     295423.0         269631.0\n",
       "1540      Seafood     216061.0         295423.0\n",
       "1541      Seafood     231179.0         216061.0\n",
       "1542      Seafood     208426.0         231179.0\n",
       "1543      Seafood      35947.0         208426.0\n",
       "\n",
       "[1536 rows x 3 columns]"
      ],
      "text/html": [
       "<div>\n",
       "<style scoped>\n",
       "    .dataframe tbody tr th:only-of-type {\n",
       "        vertical-align: middle;\n",
       "    }\n",
       "\n",
       "    .dataframe tbody tr th {\n",
       "        vertical-align: top;\n",
       "    }\n",
       "\n",
       "    .dataframe thead th {\n",
       "        text-align: right;\n",
       "    }\n",
       "</style>\n",
       "<table border=\"1\" class=\"dataframe\">\n",
       "  <thead>\n",
       "    <tr style=\"text-align: right;\">\n",
       "      <th></th>\n",
       "      <th>CategoryName</th>\n",
       "      <th>total_sales</th>\n",
       "      <th>prev_week_sales</th>\n",
       "    </tr>\n",
       "  </thead>\n",
       "  <tbody>\n",
       "    <tr>\n",
       "      <th>1</th>\n",
       "      <td>Beverages</td>\n",
       "      <td>596255.0</td>\n",
       "      <td>71242.0</td>\n",
       "    </tr>\n",
       "    <tr>\n",
       "      <th>2</th>\n",
       "      <td>Beverages</td>\n",
       "      <td>565444.0</td>\n",
       "      <td>596255.0</td>\n",
       "    </tr>\n",
       "    <tr>\n",
       "      <th>3</th>\n",
       "      <td>Beverages</td>\n",
       "      <td>682273.5</td>\n",
       "      <td>565444.0</td>\n",
       "    </tr>\n",
       "    <tr>\n",
       "      <th>4</th>\n",
       "      <td>Beverages</td>\n",
       "      <td>341663.5</td>\n",
       "      <td>682273.5</td>\n",
       "    </tr>\n",
       "    <tr>\n",
       "      <th>5</th>\n",
       "      <td>Beverages</td>\n",
       "      <td>462239.0</td>\n",
       "      <td>341663.5</td>\n",
       "    </tr>\n",
       "    <tr>\n",
       "      <th>...</th>\n",
       "      <td>...</td>\n",
       "      <td>...</td>\n",
       "      <td>...</td>\n",
       "    </tr>\n",
       "    <tr>\n",
       "      <th>1539</th>\n",
       "      <td>Seafood</td>\n",
       "      <td>295423.0</td>\n",
       "      <td>269631.0</td>\n",
       "    </tr>\n",
       "    <tr>\n",
       "      <th>1540</th>\n",
       "      <td>Seafood</td>\n",
       "      <td>216061.0</td>\n",
       "      <td>295423.0</td>\n",
       "    </tr>\n",
       "    <tr>\n",
       "      <th>1541</th>\n",
       "      <td>Seafood</td>\n",
       "      <td>231179.0</td>\n",
       "      <td>216061.0</td>\n",
       "    </tr>\n",
       "    <tr>\n",
       "      <th>1542</th>\n",
       "      <td>Seafood</td>\n",
       "      <td>208426.0</td>\n",
       "      <td>231179.0</td>\n",
       "    </tr>\n",
       "    <tr>\n",
       "      <th>1543</th>\n",
       "      <td>Seafood</td>\n",
       "      <td>35947.0</td>\n",
       "      <td>208426.0</td>\n",
       "    </tr>\n",
       "  </tbody>\n",
       "</table>\n",
       "<p>1536 rows × 3 columns</p>\n",
       "</div>"
      ]
     },
     "execution_count": 8,
     "metadata": {},
     "output_type": "execute_result"
    }
   ],
   "execution_count": 8
  },
  {
   "cell_type": "code",
   "metadata": {
    "ExecuteTime": {
     "end_time": "2024-09-14T22:00:00.858644Z",
     "start_time": "2024-09-14T22:00:00.855446Z"
    }
   },
   "source": [
    "label_encoder = LabelEncoder()\n",
    "df['CategoryName'] = label_encoder.fit_transform(df['CategoryName'])"
   ],
   "outputs": [],
   "execution_count": 9
  },
  {
   "cell_type": "code",
   "metadata": {
    "ExecuteTime": {
     "end_time": "2024-09-14T22:00:02.243603Z",
     "start_time": "2024-09-14T22:00:02.239327Z"
    }
   },
   "source": [
    "X = df.drop(columns=['total_sales'])\n",
    "y = df['total_sales']"
   ],
   "outputs": [],
   "execution_count": 10
  },
  {
   "cell_type": "code",
   "metadata": {
    "ExecuteTime": {
     "end_time": "2024-09-14T22:00:03.445080Z",
     "start_time": "2024-09-14T22:00:03.436793Z"
    }
   },
   "source": [
    "X.sample(40)"
   ],
   "outputs": [
    {
     "data": {
      "text/plain": [
       "      CategoryName  prev_week_sales\n",
       "945              4        146460.00\n",
       "949              4        124414.00\n",
       "1008             5        411466.50\n",
       "605              3        327761.00\n",
       "1080             5        348486.00\n",
       "921              4        190986.00\n",
       "302              1        306207.00\n",
       "1037             5        396903.00\n",
       "575              2        345928.00\n",
       "1460             7        299150.00\n",
       "692              3        298420.00\n",
       "1083             5        405334.00\n",
       "1041             5        363861.00\n",
       "1410             7        234142.55\n",
       "1030             5        337374.00\n",
       "1369             7        258183.00\n",
       "1310             6        159524.00\n",
       "627              3        101235.00\n",
       "333              1        311762.00\n",
       "977              5        325274.00\n",
       "317              1        368488.00\n",
       "759              3        336725.00\n",
       "223              1        292245.75\n",
       "1275             6        245773.00\n",
       "1467             7        292115.00\n",
       "1283             6        200151.00\n",
       "1122             5        352477.00\n",
       "955              4        199109.00\n",
       "402              2        344866.00\n",
       "1527             7        240363.00\n",
       "1162             6        250580.00\n",
       "45               0        590352.00\n",
       "150              0        386745.00\n",
       "554              2        364366.00\n",
       "295              1        203215.00\n",
       "542              2        384537.00\n",
       "911              4        168025.00\n",
       "158              0        595954.00\n",
       "1349             6        141195.00\n",
       "1271             6        184004.00"
      ],
      "text/html": [
       "<div>\n",
       "<style scoped>\n",
       "    .dataframe tbody tr th:only-of-type {\n",
       "        vertical-align: middle;\n",
       "    }\n",
       "\n",
       "    .dataframe tbody tr th {\n",
       "        vertical-align: top;\n",
       "    }\n",
       "\n",
       "    .dataframe thead th {\n",
       "        text-align: right;\n",
       "    }\n",
       "</style>\n",
       "<table border=\"1\" class=\"dataframe\">\n",
       "  <thead>\n",
       "    <tr style=\"text-align: right;\">\n",
       "      <th></th>\n",
       "      <th>CategoryName</th>\n",
       "      <th>prev_week_sales</th>\n",
       "    </tr>\n",
       "  </thead>\n",
       "  <tbody>\n",
       "    <tr>\n",
       "      <th>945</th>\n",
       "      <td>4</td>\n",
       "      <td>146460.00</td>\n",
       "    </tr>\n",
       "    <tr>\n",
       "      <th>949</th>\n",
       "      <td>4</td>\n",
       "      <td>124414.00</td>\n",
       "    </tr>\n",
       "    <tr>\n",
       "      <th>1008</th>\n",
       "      <td>5</td>\n",
       "      <td>411466.50</td>\n",
       "    </tr>\n",
       "    <tr>\n",
       "      <th>605</th>\n",
       "      <td>3</td>\n",
       "      <td>327761.00</td>\n",
       "    </tr>\n",
       "    <tr>\n",
       "      <th>1080</th>\n",
       "      <td>5</td>\n",
       "      <td>348486.00</td>\n",
       "    </tr>\n",
       "    <tr>\n",
       "      <th>921</th>\n",
       "      <td>4</td>\n",
       "      <td>190986.00</td>\n",
       "    </tr>\n",
       "    <tr>\n",
       "      <th>302</th>\n",
       "      <td>1</td>\n",
       "      <td>306207.00</td>\n",
       "    </tr>\n",
       "    <tr>\n",
       "      <th>1037</th>\n",
       "      <td>5</td>\n",
       "      <td>396903.00</td>\n",
       "    </tr>\n",
       "    <tr>\n",
       "      <th>575</th>\n",
       "      <td>2</td>\n",
       "      <td>345928.00</td>\n",
       "    </tr>\n",
       "    <tr>\n",
       "      <th>1460</th>\n",
       "      <td>7</td>\n",
       "      <td>299150.00</td>\n",
       "    </tr>\n",
       "    <tr>\n",
       "      <th>692</th>\n",
       "      <td>3</td>\n",
       "      <td>298420.00</td>\n",
       "    </tr>\n",
       "    <tr>\n",
       "      <th>1083</th>\n",
       "      <td>5</td>\n",
       "      <td>405334.00</td>\n",
       "    </tr>\n",
       "    <tr>\n",
       "      <th>1041</th>\n",
       "      <td>5</td>\n",
       "      <td>363861.00</td>\n",
       "    </tr>\n",
       "    <tr>\n",
       "      <th>1410</th>\n",
       "      <td>7</td>\n",
       "      <td>234142.55</td>\n",
       "    </tr>\n",
       "    <tr>\n",
       "      <th>1030</th>\n",
       "      <td>5</td>\n",
       "      <td>337374.00</td>\n",
       "    </tr>\n",
       "    <tr>\n",
       "      <th>1369</th>\n",
       "      <td>7</td>\n",
       "      <td>258183.00</td>\n",
       "    </tr>\n",
       "    <tr>\n",
       "      <th>1310</th>\n",
       "      <td>6</td>\n",
       "      <td>159524.00</td>\n",
       "    </tr>\n",
       "    <tr>\n",
       "      <th>627</th>\n",
       "      <td>3</td>\n",
       "      <td>101235.00</td>\n",
       "    </tr>\n",
       "    <tr>\n",
       "      <th>333</th>\n",
       "      <td>1</td>\n",
       "      <td>311762.00</td>\n",
       "    </tr>\n",
       "    <tr>\n",
       "      <th>977</th>\n",
       "      <td>5</td>\n",
       "      <td>325274.00</td>\n",
       "    </tr>\n",
       "    <tr>\n",
       "      <th>317</th>\n",
       "      <td>1</td>\n",
       "      <td>368488.00</td>\n",
       "    </tr>\n",
       "    <tr>\n",
       "      <th>759</th>\n",
       "      <td>3</td>\n",
       "      <td>336725.00</td>\n",
       "    </tr>\n",
       "    <tr>\n",
       "      <th>223</th>\n",
       "      <td>1</td>\n",
       "      <td>292245.75</td>\n",
       "    </tr>\n",
       "    <tr>\n",
       "      <th>1275</th>\n",
       "      <td>6</td>\n",
       "      <td>245773.00</td>\n",
       "    </tr>\n",
       "    <tr>\n",
       "      <th>1467</th>\n",
       "      <td>7</td>\n",
       "      <td>292115.00</td>\n",
       "    </tr>\n",
       "    <tr>\n",
       "      <th>1283</th>\n",
       "      <td>6</td>\n",
       "      <td>200151.00</td>\n",
       "    </tr>\n",
       "    <tr>\n",
       "      <th>1122</th>\n",
       "      <td>5</td>\n",
       "      <td>352477.00</td>\n",
       "    </tr>\n",
       "    <tr>\n",
       "      <th>955</th>\n",
       "      <td>4</td>\n",
       "      <td>199109.00</td>\n",
       "    </tr>\n",
       "    <tr>\n",
       "      <th>402</th>\n",
       "      <td>2</td>\n",
       "      <td>344866.00</td>\n",
       "    </tr>\n",
       "    <tr>\n",
       "      <th>1527</th>\n",
       "      <td>7</td>\n",
       "      <td>240363.00</td>\n",
       "    </tr>\n",
       "    <tr>\n",
       "      <th>1162</th>\n",
       "      <td>6</td>\n",
       "      <td>250580.00</td>\n",
       "    </tr>\n",
       "    <tr>\n",
       "      <th>45</th>\n",
       "      <td>0</td>\n",
       "      <td>590352.00</td>\n",
       "    </tr>\n",
       "    <tr>\n",
       "      <th>150</th>\n",
       "      <td>0</td>\n",
       "      <td>386745.00</td>\n",
       "    </tr>\n",
       "    <tr>\n",
       "      <th>554</th>\n",
       "      <td>2</td>\n",
       "      <td>364366.00</td>\n",
       "    </tr>\n",
       "    <tr>\n",
       "      <th>295</th>\n",
       "      <td>1</td>\n",
       "      <td>203215.00</td>\n",
       "    </tr>\n",
       "    <tr>\n",
       "      <th>542</th>\n",
       "      <td>2</td>\n",
       "      <td>384537.00</td>\n",
       "    </tr>\n",
       "    <tr>\n",
       "      <th>911</th>\n",
       "      <td>4</td>\n",
       "      <td>168025.00</td>\n",
       "    </tr>\n",
       "    <tr>\n",
       "      <th>158</th>\n",
       "      <td>0</td>\n",
       "      <td>595954.00</td>\n",
       "    </tr>\n",
       "    <tr>\n",
       "      <th>1349</th>\n",
       "      <td>6</td>\n",
       "      <td>141195.00</td>\n",
       "    </tr>\n",
       "    <tr>\n",
       "      <th>1271</th>\n",
       "      <td>6</td>\n",
       "      <td>184004.00</td>\n",
       "    </tr>\n",
       "  </tbody>\n",
       "</table>\n",
       "</div>"
      ]
     },
     "execution_count": 11,
     "metadata": {},
     "output_type": "execute_result"
    }
   ],
   "execution_count": 11
  },
  {
   "cell_type": "code",
   "metadata": {
    "ExecuteTime": {
     "end_time": "2024-09-14T22:00:05.698114Z",
     "start_time": "2024-09-14T22:00:05.694379Z"
    }
   },
   "source": [
    "X_train, X_test, y_train, y_test = train_test_split(X, y, test_size=0.2, random_state=42)"
   ],
   "outputs": [],
   "execution_count": 12
  },
  {
   "cell_type": "code",
   "metadata": {
    "ExecuteTime": {
     "end_time": "2024-09-14T22:00:07.155893Z",
     "start_time": "2024-09-14T22:00:07.152955Z"
    }
   },
   "source": [
    "models = {\n",
    "    'Linear Regression': LinearRegression(),\n",
    "    'Ridge Regression': Ridge(),\n",
    "    'Lasso Regression': Lasso(),\n",
    "    'Random Forest Regression': RandomForestRegressor(),\n",
    "    'LightGBM': lgb.LGBMRegressor()\n",
    "}"
   ],
   "outputs": [],
   "execution_count": 13
  },
  {
   "cell_type": "code",
   "metadata": {
    "ExecuteTime": {
     "end_time": "2024-09-14T22:00:08.758226Z",
     "start_time": "2024-09-14T22:00:08.754947Z"
    }
   },
   "source": [
    "cv_results = {}\n",
    "pearson_results = {}\n",
    "\n",
    "cv_folds = 5"
   ],
   "outputs": [],
   "execution_count": 14
  },
  {
   "cell_type": "code",
   "metadata": {
    "ExecuteTime": {
     "end_time": "2024-09-14T22:00:11.614863Z",
     "start_time": "2024-09-14T22:00:10.225289Z"
    }
   },
   "source": [
    "for name, model in models.items():\n",
    "    pipeline = make_pipeline(StandardScaler(), model)\n",
    "    \n",
    "    pipeline.fit(X_train, y_train)\n",
    "    \n",
    "    y_pred = pipeline.predict(X_test)\n",
    "    \n",
    "    pearson_corr, _ = pearsonr(y_test, y_pred)\n",
    "    pearson_results[name] = pearson_corr\n",
    "    \n",
    "    scores = cross_val_score(pipeline, X, y, cv=cv_folds, scoring='neg_mean_squared_error')\n",
    "    mse_scores = -scores\n",
    "    cv_results[name] = {\n",
    "        'Mean MSE': np.mean(mse_scores),\n",
    "        'Standard Deviation': np.std(mse_scores)\n",
    "    }"
   ],
   "outputs": [
    {
     "name": "stdout",
     "output_type": "stream",
     "text": [
      "[LightGBM] [Info] Auto-choosing col-wise multi-threading, the overhead of testing was 0.000044 seconds.\n",
      "You can set `force_col_wise=true` to remove the overhead.\n",
      "[LightGBM] [Info] Total Bins 264\n",
      "[LightGBM] [Info] Number of data points in the train set: 1228, number of used features: 2\n",
      "[LightGBM] [Info] Start training from score 297501.252564\n",
      "[LightGBM] [Info] Auto-choosing row-wise multi-threading, the overhead of testing was 0.000011 seconds.\n",
      "You can set `force_row_wise=true` to remove the overhead.\n",
      "And if memory is not enough, you can set `force_col_wise=true`.\n",
      "[LightGBM] [Info] Total Bins 263\n",
      "[LightGBM] [Info] Number of data points in the train set: 1228, number of used features: 2\n",
      "[LightGBM] [Info] Start training from score 268433.630236\n",
      "[LightGBM] [Info] Auto-choosing col-wise multi-threading, the overhead of testing was 0.000024 seconds.\n",
      "You can set `force_col_wise=true` to remove the overhead.\n",
      "[LightGBM] [Info] Total Bins 263\n",
      "[LightGBM] [Info] Number of data points in the train set: 1229, number of used features: 2\n",
      "[LightGBM] [Info] Start training from score 290058.828602\n",
      "[LightGBM] [Info] Auto-choosing col-wise multi-threading, the overhead of testing was 0.000024 seconds.\n",
      "You can set `force_col_wise=true` to remove the overhead.\n",
      "[LightGBM] [Info] Total Bins 264\n",
      "[LightGBM] [Info] Number of data points in the train set: 1229, number of used features: 2\n",
      "[LightGBM] [Info] Start training from score 315736.882730\n",
      "[LightGBM] [Info] Auto-choosing col-wise multi-threading, the overhead of testing was 0.000027 seconds.\n",
      "You can set `force_col_wise=true` to remove the overhead.\n",
      "[LightGBM] [Info] Total Bins 263\n",
      "[LightGBM] [Info] Number of data points in the train set: 1229, number of used features: 2\n",
      "[LightGBM] [Info] Start training from score 302987.760406\n",
      "[LightGBM] [Info] Auto-choosing col-wise multi-threading, the overhead of testing was 0.000023 seconds.\n",
      "You can set `force_col_wise=true` to remove the overhead.\n",
      "[LightGBM] [Info] Total Bins 263\n",
      "[LightGBM] [Info] Number of data points in the train set: 1229, number of used features: 2\n",
      "[LightGBM] [Info] Start training from score 315171.269751\n"
     ]
    }
   ],
   "execution_count": 15
  },
  {
   "cell_type": "code",
   "metadata": {
    "ExecuteTime": {
     "end_time": "2024-09-14T22:00:14.055517Z",
     "start_time": "2024-09-14T22:00:14.051416Z"
    }
   },
   "source": [
    "for name, results in cv_results.items():\n",
    "    print(f'{name} - Mean MSE: {results[\"Mean MSE\"]:.2f}, Standard Deviation: {results[\"Standard Deviation\"]:.2f}')\n",
    "\n",
    "print(\"\\nPearson Correlation Coefficients:\")\n",
    "for name, pearson_corr in pearson_results.items():\n",
    "    print(f'{name}: {pearson_corr:.4f}')"
   ],
   "outputs": [
    {
     "name": "stdout",
     "output_type": "stream",
     "text": [
      "Linear Regression - Mean MSE: 5628918250.89, Standard Deviation: 2414577561.61\n",
      "Ridge Regression - Mean MSE: 5629940742.19, Standard Deviation: 2414661180.15\n",
      "Lasso Regression - Mean MSE: 5628993875.22, Standard Deviation: 2414582081.30\n",
      "Random Forest Regression - Mean MSE: 10358177371.56, Standard Deviation: 7496320318.82\n",
      "LightGBM - Mean MSE: 8854402529.31, Standard Deviation: 7819042599.18\n",
      "\n",
      "Pearson Correlation Coefficients:\n",
      "Linear Regression: 0.7601\n",
      "Ridge Regression: 0.7601\n",
      "Lasso Regression: 0.7601\n",
      "Random Forest Regression: 0.7317\n",
      "LightGBM: 0.8077\n"
     ]
    }
   ],
   "execution_count": 16
  },
  {
   "cell_type": "code",
   "metadata": {
    "ExecuteTime": {
     "end_time": "2024-09-14T22:00:16.365703Z",
     "start_time": "2024-09-14T22:00:16.362428Z"
    }
   },
   "source": [
    "label_encoder = LabelEncoder()\n",
    "df_['CategoryName'] = label_encoder.fit_transform(df_['CategoryName'])"
   ],
   "outputs": [],
   "execution_count": 17
  },
  {
   "cell_type": "code",
   "metadata": {
    "ExecuteTime": {
     "end_time": "2024-09-14T22:00:19.955932Z",
     "start_time": "2024-09-14T22:00:19.949554Z"
    }
   },
   "source": [
    "df_"
   ],
   "outputs": [
    {
     "data": {
      "text/plain": [
       "      CategoryName Year-Week  total_sales  prev_week_sales\n",
       "0                0   2018-05      71242.0              NaN\n",
       "1                0   2018-06     596255.0          71242.0\n",
       "2                0   2018-07     565444.0         596255.0\n",
       "3                0   2018-08     682273.5         565444.0\n",
       "4                0   2018-09     341663.5         682273.5\n",
       "...            ...       ...          ...              ...\n",
       "1539             7   2021-34     295423.0         269631.0\n",
       "1540             7   2021-35     216061.0         295423.0\n",
       "1541             7   2021-36     231179.0         216061.0\n",
       "1542             7   2021-37     208426.0         231179.0\n",
       "1543             7   2021-38      35947.0         208426.0\n",
       "\n",
       "[1544 rows x 4 columns]"
      ],
      "text/html": [
       "<div>\n",
       "<style scoped>\n",
       "    .dataframe tbody tr th:only-of-type {\n",
       "        vertical-align: middle;\n",
       "    }\n",
       "\n",
       "    .dataframe tbody tr th {\n",
       "        vertical-align: top;\n",
       "    }\n",
       "\n",
       "    .dataframe thead th {\n",
       "        text-align: right;\n",
       "    }\n",
       "</style>\n",
       "<table border=\"1\" class=\"dataframe\">\n",
       "  <thead>\n",
       "    <tr style=\"text-align: right;\">\n",
       "      <th></th>\n",
       "      <th>CategoryName</th>\n",
       "      <th>Year-Week</th>\n",
       "      <th>total_sales</th>\n",
       "      <th>prev_week_sales</th>\n",
       "    </tr>\n",
       "  </thead>\n",
       "  <tbody>\n",
       "    <tr>\n",
       "      <th>0</th>\n",
       "      <td>0</td>\n",
       "      <td>2018-05</td>\n",
       "      <td>71242.0</td>\n",
       "      <td>NaN</td>\n",
       "    </tr>\n",
       "    <tr>\n",
       "      <th>1</th>\n",
       "      <td>0</td>\n",
       "      <td>2018-06</td>\n",
       "      <td>596255.0</td>\n",
       "      <td>71242.0</td>\n",
       "    </tr>\n",
       "    <tr>\n",
       "      <th>2</th>\n",
       "      <td>0</td>\n",
       "      <td>2018-07</td>\n",
       "      <td>565444.0</td>\n",
       "      <td>596255.0</td>\n",
       "    </tr>\n",
       "    <tr>\n",
       "      <th>3</th>\n",
       "      <td>0</td>\n",
       "      <td>2018-08</td>\n",
       "      <td>682273.5</td>\n",
       "      <td>565444.0</td>\n",
       "    </tr>\n",
       "    <tr>\n",
       "      <th>4</th>\n",
       "      <td>0</td>\n",
       "      <td>2018-09</td>\n",
       "      <td>341663.5</td>\n",
       "      <td>682273.5</td>\n",
       "    </tr>\n",
       "    <tr>\n",
       "      <th>...</th>\n",
       "      <td>...</td>\n",
       "      <td>...</td>\n",
       "      <td>...</td>\n",
       "      <td>...</td>\n",
       "    </tr>\n",
       "    <tr>\n",
       "      <th>1539</th>\n",
       "      <td>7</td>\n",
       "      <td>2021-34</td>\n",
       "      <td>295423.0</td>\n",
       "      <td>269631.0</td>\n",
       "    </tr>\n",
       "    <tr>\n",
       "      <th>1540</th>\n",
       "      <td>7</td>\n",
       "      <td>2021-35</td>\n",
       "      <td>216061.0</td>\n",
       "      <td>295423.0</td>\n",
       "    </tr>\n",
       "    <tr>\n",
       "      <th>1541</th>\n",
       "      <td>7</td>\n",
       "      <td>2021-36</td>\n",
       "      <td>231179.0</td>\n",
       "      <td>216061.0</td>\n",
       "    </tr>\n",
       "    <tr>\n",
       "      <th>1542</th>\n",
       "      <td>7</td>\n",
       "      <td>2021-37</td>\n",
       "      <td>208426.0</td>\n",
       "      <td>231179.0</td>\n",
       "    </tr>\n",
       "    <tr>\n",
       "      <th>1543</th>\n",
       "      <td>7</td>\n",
       "      <td>2021-38</td>\n",
       "      <td>35947.0</td>\n",
       "      <td>208426.0</td>\n",
       "    </tr>\n",
       "  </tbody>\n",
       "</table>\n",
       "<p>1544 rows × 4 columns</p>\n",
       "</div>"
      ]
     },
     "execution_count": 18,
     "metadata": {},
     "output_type": "execute_result"
    }
   ],
   "execution_count": 18
  },
  {
   "cell_type": "code",
   "metadata": {
    "ExecuteTime": {
     "end_time": "2024-09-14T22:00:22.985028Z",
     "start_time": "2024-09-14T22:00:22.980183Z"
    }
   },
   "source": [
    "df_.dtypes"
   ],
   "outputs": [
    {
     "data": {
      "text/plain": [
       "CategoryName         int64\n",
       "Year-Week           object\n",
       "total_sales        float64\n",
       "prev_week_sales    float64\n",
       "dtype: object"
      ]
     },
     "execution_count": 19,
     "metadata": {},
     "output_type": "execute_result"
    }
   ],
   "execution_count": 19
  },
  {
   "cell_type": "code",
   "metadata": {
    "ExecuteTime": {
     "end_time": "2024-09-14T22:00:25.109464Z",
     "start_time": "2024-09-14T22:00:25.100009Z"
    }
   },
   "source": [
    "df_['date'] = pd.to_datetime(df_['Year-Week'] + '0', format='%Y-%W%w')\n",
    "df_ = df_.drop('Year-Week',axis=1)\n",
    "df_"
   ],
   "outputs": [
    {
     "data": {
      "text/plain": [
       "      CategoryName  total_sales  prev_week_sales       date\n",
       "0                0      71242.0              NaN 2018-02-04\n",
       "1                0     596255.0          71242.0 2018-02-11\n",
       "2                0     565444.0         596255.0 2018-02-18\n",
       "3                0     682273.5         565444.0 2018-02-25\n",
       "4                0     341663.5         682273.5 2018-03-04\n",
       "...            ...          ...              ...        ...\n",
       "1539             7     295423.0         269631.0 2021-08-29\n",
       "1540             7     216061.0         295423.0 2021-09-05\n",
       "1541             7     231179.0         216061.0 2021-09-12\n",
       "1542             7     208426.0         231179.0 2021-09-19\n",
       "1543             7      35947.0         208426.0 2021-09-26\n",
       "\n",
       "[1544 rows x 4 columns]"
      ],
      "text/html": [
       "<div>\n",
       "<style scoped>\n",
       "    .dataframe tbody tr th:only-of-type {\n",
       "        vertical-align: middle;\n",
       "    }\n",
       "\n",
       "    .dataframe tbody tr th {\n",
       "        vertical-align: top;\n",
       "    }\n",
       "\n",
       "    .dataframe thead th {\n",
       "        text-align: right;\n",
       "    }\n",
       "</style>\n",
       "<table border=\"1\" class=\"dataframe\">\n",
       "  <thead>\n",
       "    <tr style=\"text-align: right;\">\n",
       "      <th></th>\n",
       "      <th>CategoryName</th>\n",
       "      <th>total_sales</th>\n",
       "      <th>prev_week_sales</th>\n",
       "      <th>date</th>\n",
       "    </tr>\n",
       "  </thead>\n",
       "  <tbody>\n",
       "    <tr>\n",
       "      <th>0</th>\n",
       "      <td>0</td>\n",
       "      <td>71242.0</td>\n",
       "      <td>NaN</td>\n",
       "      <td>2018-02-04</td>\n",
       "    </tr>\n",
       "    <tr>\n",
       "      <th>1</th>\n",
       "      <td>0</td>\n",
       "      <td>596255.0</td>\n",
       "      <td>71242.0</td>\n",
       "      <td>2018-02-11</td>\n",
       "    </tr>\n",
       "    <tr>\n",
       "      <th>2</th>\n",
       "      <td>0</td>\n",
       "      <td>565444.0</td>\n",
       "      <td>596255.0</td>\n",
       "      <td>2018-02-18</td>\n",
       "    </tr>\n",
       "    <tr>\n",
       "      <th>3</th>\n",
       "      <td>0</td>\n",
       "      <td>682273.5</td>\n",
       "      <td>565444.0</td>\n",
       "      <td>2018-02-25</td>\n",
       "    </tr>\n",
       "    <tr>\n",
       "      <th>4</th>\n",
       "      <td>0</td>\n",
       "      <td>341663.5</td>\n",
       "      <td>682273.5</td>\n",
       "      <td>2018-03-04</td>\n",
       "    </tr>\n",
       "    <tr>\n",
       "      <th>...</th>\n",
       "      <td>...</td>\n",
       "      <td>...</td>\n",
       "      <td>...</td>\n",
       "      <td>...</td>\n",
       "    </tr>\n",
       "    <tr>\n",
       "      <th>1539</th>\n",
       "      <td>7</td>\n",
       "      <td>295423.0</td>\n",
       "      <td>269631.0</td>\n",
       "      <td>2021-08-29</td>\n",
       "    </tr>\n",
       "    <tr>\n",
       "      <th>1540</th>\n",
       "      <td>7</td>\n",
       "      <td>216061.0</td>\n",
       "      <td>295423.0</td>\n",
       "      <td>2021-09-05</td>\n",
       "    </tr>\n",
       "    <tr>\n",
       "      <th>1541</th>\n",
       "      <td>7</td>\n",
       "      <td>231179.0</td>\n",
       "      <td>216061.0</td>\n",
       "      <td>2021-09-12</td>\n",
       "    </tr>\n",
       "    <tr>\n",
       "      <th>1542</th>\n",
       "      <td>7</td>\n",
       "      <td>208426.0</td>\n",
       "      <td>231179.0</td>\n",
       "      <td>2021-09-19</td>\n",
       "    </tr>\n",
       "    <tr>\n",
       "      <th>1543</th>\n",
       "      <td>7</td>\n",
       "      <td>35947.0</td>\n",
       "      <td>208426.0</td>\n",
       "      <td>2021-09-26</td>\n",
       "    </tr>\n",
       "  </tbody>\n",
       "</table>\n",
       "<p>1544 rows × 4 columns</p>\n",
       "</div>"
      ]
     },
     "execution_count": 20,
     "metadata": {},
     "output_type": "execute_result"
    }
   ],
   "execution_count": 20
  },
  {
   "cell_type": "code",
   "metadata": {
    "ExecuteTime": {
     "end_time": "2024-09-14T22:00:29.055627Z",
     "start_time": "2024-09-14T22:00:29.050059Z"
    }
   },
   "source": [
    "df_['year_numeric'] = df_['date'].dt.year - 2017\n",
    "\n",
    "def get_season(month):\n",
    "    if month in [3, 4, 5]:\n",
    "        return 1  # 봄\n",
    "    elif month in [6, 7, 8]:\n",
    "        return 2  # 여름\n",
    "    elif month in [9, 10, 11]:\n",
    "        return 3  # 가을\n",
    "    else:\n",
    "        return 4  # 겨울\n",
    "\n",
    "df_['season'] = df_['date'].dt.month.apply(get_season)"
   ],
   "outputs": [],
   "execution_count": 22
  },
  {
   "cell_type": "code",
   "metadata": {
    "ExecuteTime": {
     "end_time": "2024-09-14T22:00:31.343152Z",
     "start_time": "2024-09-14T22:00:31.339770Z"
    }
   },
   "source": [
    "X_ = df_.drop(columns=['total_sales', 'date'])\n",
    "y_ = df_['total_sales']"
   ],
   "outputs": [],
   "execution_count": 23
  },
  {
   "cell_type": "code",
   "metadata": {
    "ExecuteTime": {
     "end_time": "2024-09-14T22:00:33.385403Z",
     "start_time": "2024-09-14T22:00:32.792285Z"
    }
   },
   "source": [
    "#변수의 분포 확인\n",
    "for column in X_.columns:\n",
    "    plt.figure(figsize=(10, 4))\n",
    "    sns.histplot(X_[column], kde=True)\n",
    "    plt.title(f'Distribution of {column}')\n",
    "    plt.show()"
   ],
   "outputs": [
    {
     "data": {
      "text/plain": [
       "<Figure size 1000x400 with 1 Axes>"
      ],
      "image/png": "[encoded data removed]"
     },
     "metadata": {},
     "output_type": "display_data"
    },
    {
     "data": {
      "text/plain": [
       "<Figure size 1000x400 with 1 Axes>"
      ],
      "image/png": "[encoded data removed]"
     },
     "metadata": {},
     "output_type": "display_data"
    },
    {
     "data": {
      "text/plain": [
       "<Figure size 1000x400 with 1 Axes>"
      ],
      "image/png": "[encoded data removed]"
     },
     "metadata": {},
     "output_type": "display_data"
    },
    {
     "data": {
      "text/plain": [
       "<Figure size 1000x400 with 1 Axes>"
      ],
      "image/png": "[encoded data removed]"
     },
     "metadata": {},
     "output_type": "display_data"
    }
   ],
   "execution_count": 24
  },
  {
   "cell_type": "code",
   "metadata": {
    "ExecuteTime": {
     "end_time": "2024-09-14T22:00:37.760175Z",
     "start_time": "2024-09-14T22:00:37.654672Z"
    }
   },
   "source": [
    "#히트맵\n",
    "correlation_matrix = X_.corr()\n",
    "\n",
    "plt.figure(figsize=(10, 8))\n",
    "sns.heatmap(correlation_matrix, annot=True, cmap='coolwarm', fmt='.2f')\n",
    "plt.title('Correlation Matrix')\n",
    "plt.show()"
   ],
   "outputs": [
    {
     "data": {
      "text/plain": [
       "<Figure size 1000x800 with 2 Axes>"
      ],
      "image/png": "[encoded data removed]"
     },
     "metadata": {},
     "output_type": "display_data"
    }
   ],
   "execution_count": 25
  },
  {
   "cell_type": "code",
   "metadata": {
    "ExecuteTime": {
     "end_time": "2024-09-14T22:00:41.623899Z",
     "start_time": "2024-09-14T22:00:41.311970Z"
    }
   },
   "source": [
    "#변수 선택 및 중요도\n",
    "\n",
    "model_ = RandomForestRegressor()\n",
    "model_.fit(X_, y_)\n",
    "\n",
    "importances = model_.feature_importances_\n",
    "indices = np.argsort(importances)[::-1]\n",
    "\n",
    "plt.figure(figsize=(10, 6))\n",
    "plt.title('Feature Importances')\n",
    "plt.bar(range(X_.shape[1]), importances[indices], align='center')\n",
    "plt.xticks(range(X_.shape[1]), X_.columns[indices], rotation=90)\n",
    "plt.xlim([-1, X_.shape[1]])\n",
    "plt.show()"
   ],
   "outputs": [
    {
     "data": {
      "text/plain": [
       "<Figure size 1000x600 with 1 Axes>"
      ],
      "image/png": "[encoded data removed]"
     },
     "metadata": {},
     "output_type": "display_data"
    }
   ],
   "execution_count": 26
  },
  {
   "cell_type": "code",
   "execution_count": null,
   "metadata": {},
   "outputs": [],
   "source": []
  }
 ],
 "metadata": {
  "kernelspec": {
   "display_name": "Python 3",
   "language": "python",
   "name": "python3"
  },
  "language_info": {
   "codemirror_mode": {
    "name": "ipython",
    "version": 3
   },
   "file_extension": ".py",
   "mimetype": "text/x-python",
   "name": "python",
   "nbconvert_exporter": "python",
   "pygments_lexer": "ipython3",
   "version": "3.8.8"
  }
 },
 "nbformat": 4,
 "nbformat_minor": 4
}
